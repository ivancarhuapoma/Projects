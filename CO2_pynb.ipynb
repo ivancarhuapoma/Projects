{
  "nbformat": 4,
  "nbformat_minor": 0,
  "metadata": {
    "colab": {
      "name": "CO2_pynb.ipynb",
      "provenance": [],
      "collapsed_sections": [],
      "include_colab_link": true
    },
    "kernelspec": {
      "name": "python3",
      "display_name": "Python 3"
    }
  },
  "cells": [
    {
      "cell_type": "markdown",
      "metadata": {
        "id": "view-in-github",
        "colab_type": "text"
      },
      "source": [
        "<a href=\"https://colab.research.google.com/github/ivancarhuapoma/Projects/blob/main/CO2_pynb.ipynb\" target=\"_parent\"><img src=\"https://colab.research.google.com/assets/colab-badge.svg\" alt=\"Open In Colab\"/></a>"
      ]
    },
    {
      "cell_type": "markdown",
      "metadata": {
        "id": "JZX81hwNZqjk"
      },
      "source": [
        "**Regresion - Parte 1**"
      ]
    },
    {
      "cell_type": "markdown",
      "metadata": {
        "id": "FniTwL0j49Bx"
      },
      "source": [
        "En este notebook aprenderemos a utilizar la librería *scikit-learn* para implementar una regresión lineal simple. Para ello utilizaremos el dataset de emisión de CO2 de autos. Con este dividiremos nuestros datos en dos partes: (1) *un conjunto de prueba*, y (2) *un conjunto de entrenamiento*. Luego, crearemos un modelo con el *conjunto de entrenamiento* y lo evaluaremos haciendo un test con el *conjunto de prueba*. Finalmente, usaremos el modelo para predecir un valor desconocido."
      ]
    },
    {
      "cell_type": "code",
      "metadata": {
        "id": "TtYNAirCZp_v"
      },
      "source": [
        "#importacion de librerias a utilizar\n",
        "import matplotlib.pyplot as plt\n",
        "import pandas as pd\n",
        "import pylab as pl\n",
        "import numpy as np\n",
        "%matplotlib inline"
      ],
      "execution_count": null,
      "outputs": []
    },
    {
      "cell_type": "markdown",
      "metadata": {
        "id": "aUCari5ON5S4"
      },
      "source": [
        "**Subir el archivo**\n",
        "\n",
        "Subir el archivo *FuelConsumptionCo2.csv*"
      ]
    },
    {
      "cell_type": "markdown",
      "metadata": {
        "id": "JrijPTbbDD-r"
      },
      "source": [
        "**Entendiendo los datos**\n",
        "\n",
        "FuelConsumptionCo2.csv:\n",
        "\n",
        "Hemos subido el archivo de consumo de combustible, *FuelConsumptionCo2.csv*, que contiene un ranking de consumo de combustible y emisiones de dioxido de carbono de autos de poca potencia en Canada.\n",
        "\n",
        "\n",
        "*   **MODELYEAR**: 2014\n",
        "*   **MAKE**: Acura\n",
        "*   **MODEL**: ILX\n",
        "*   **VEHICLE CLASS**: SUV\n",
        "*   **ENGINE SIZE**: 4.7\n",
        "*   **CYLINDERS**: 6\n",
        "*   **TRANSMISSION**: A6\n",
        "*   **FUEL CONSUMPTION in CITY (L/100 km)**: 9.9\n",
        "*   **FUEL CONSUMPTION in HWT (L/100 km)**: 8.9\n",
        "*   **FUEL CONSUMPTION in COMB (L/100 km)**: 9.2\n",
        "*   **CO2 EMISSION (g/km)**: 182 --> low --> 0\n",
        "\n",
        "\n",
        "\n"
      ]
    },
    {
      "cell_type": "markdown",
      "metadata": {
        "id": "pGCTDReEFB-F"
      },
      "source": [
        "**Lectura de datos**"
      ]
    },
    {
      "cell_type": "code",
      "metadata": {
        "id": "sLJHVdpikWTw",
        "colab": {
          "base_uri": "https://localhost:8080/",
          "height": 275
        },
        "outputId": "2215d8ae-c08a-4fb4-caa9-2282eb017b63"
      },
      "source": [
        "#Lectura del archivo\n",
        "df = pd.read_csv('/content/sample_data/FuelConsumptionCo2(1).csv')\n",
        "\n",
        "df.head()"
      ],
      "execution_count": null,
      "outputs": [
        {
          "output_type": "execute_result",
          "data": {
            "text/html": [
              "<div>\n",
              "<style scoped>\n",
              "    .dataframe tbody tr th:only-of-type {\n",
              "        vertical-align: middle;\n",
              "    }\n",
              "\n",
              "    .dataframe tbody tr th {\n",
              "        vertical-align: top;\n",
              "    }\n",
              "\n",
              "    .dataframe thead th {\n",
              "        text-align: right;\n",
              "    }\n",
              "</style>\n",
              "<table border=\"1\" class=\"dataframe\">\n",
              "  <thead>\n",
              "    <tr style=\"text-align: right;\">\n",
              "      <th></th>\n",
              "      <th>MODELYEAR</th>\n",
              "      <th>MAKE</th>\n",
              "      <th>MODEL</th>\n",
              "      <th>VEHICLECLASS</th>\n",
              "      <th>ENGINESIZE</th>\n",
              "      <th>CYLINDERS</th>\n",
              "      <th>TRANSMISSION</th>\n",
              "      <th>FUELTYPE</th>\n",
              "      <th>FUELCONSUMPTION_CITY</th>\n",
              "      <th>FUELCONSUMPTION_HWY</th>\n",
              "      <th>FUELCONSUMPTION_COMB</th>\n",
              "      <th>FUELCONSUMPTION_COMB_MPG</th>\n",
              "      <th>CO2EMISSIONS</th>\n",
              "    </tr>\n",
              "  </thead>\n",
              "  <tbody>\n",
              "    <tr>\n",
              "      <th>0</th>\n",
              "      <td>2014</td>\n",
              "      <td>ACURA</td>\n",
              "      <td>ILX</td>\n",
              "      <td>COMPACT</td>\n",
              "      <td>2.0</td>\n",
              "      <td>4</td>\n",
              "      <td>AS5</td>\n",
              "      <td>Z</td>\n",
              "      <td>9.9</td>\n",
              "      <td>6.7</td>\n",
              "      <td>8.5</td>\n",
              "      <td>33</td>\n",
              "      <td>196</td>\n",
              "    </tr>\n",
              "    <tr>\n",
              "      <th>1</th>\n",
              "      <td>2014</td>\n",
              "      <td>ACURA</td>\n",
              "      <td>ILX</td>\n",
              "      <td>COMPACT</td>\n",
              "      <td>2.4</td>\n",
              "      <td>4</td>\n",
              "      <td>M6</td>\n",
              "      <td>Z</td>\n",
              "      <td>11.2</td>\n",
              "      <td>7.7</td>\n",
              "      <td>9.6</td>\n",
              "      <td>29</td>\n",
              "      <td>221</td>\n",
              "    </tr>\n",
              "    <tr>\n",
              "      <th>2</th>\n",
              "      <td>2014</td>\n",
              "      <td>ACURA</td>\n",
              "      <td>ILX HYBRID</td>\n",
              "      <td>COMPACT</td>\n",
              "      <td>1.5</td>\n",
              "      <td>4</td>\n",
              "      <td>AV7</td>\n",
              "      <td>Z</td>\n",
              "      <td>6.0</td>\n",
              "      <td>5.8</td>\n",
              "      <td>5.9</td>\n",
              "      <td>48</td>\n",
              "      <td>136</td>\n",
              "    </tr>\n",
              "    <tr>\n",
              "      <th>3</th>\n",
              "      <td>2014</td>\n",
              "      <td>ACURA</td>\n",
              "      <td>MDX 4WD</td>\n",
              "      <td>SUV - SMALL</td>\n",
              "      <td>3.5</td>\n",
              "      <td>6</td>\n",
              "      <td>AS6</td>\n",
              "      <td>Z</td>\n",
              "      <td>12.7</td>\n",
              "      <td>9.1</td>\n",
              "      <td>11.1</td>\n",
              "      <td>25</td>\n",
              "      <td>255</td>\n",
              "    </tr>\n",
              "    <tr>\n",
              "      <th>4</th>\n",
              "      <td>2014</td>\n",
              "      <td>ACURA</td>\n",
              "      <td>RDX AWD</td>\n",
              "      <td>SUV - SMALL</td>\n",
              "      <td>3.5</td>\n",
              "      <td>6</td>\n",
              "      <td>AS6</td>\n",
              "      <td>Z</td>\n",
              "      <td>12.1</td>\n",
              "      <td>8.7</td>\n",
              "      <td>10.6</td>\n",
              "      <td>27</td>\n",
              "      <td>244</td>\n",
              "    </tr>\n",
              "  </tbody>\n",
              "</table>\n",
              "</div>"
            ],
            "text/plain": [
              "   MODELYEAR   MAKE  ... FUELCONSUMPTION_COMB_MPG CO2EMISSIONS\n",
              "0       2014  ACURA  ...                       33          196\n",
              "1       2014  ACURA  ...                       29          221\n",
              "2       2014  ACURA  ...                       48          136\n",
              "3       2014  ACURA  ...                       25          255\n",
              "4       2014  ACURA  ...                       27          244\n",
              "\n",
              "[5 rows x 13 columns]"
            ]
          },
          "metadata": {
            "tags": []
          },
          "execution_count": 2
        }
      ]
    },
    {
      "cell_type": "markdown",
      "metadata": {
        "id": "h3vXTtBsTDAU"
      },
      "source": [
        "**Exploración de datos**\n",
        "\n",
        "Primero realizaremos una exploración descriptiva de nuestros datos."
      ]
    },
    {
      "cell_type": "code",
      "metadata": {
        "id": "Gz8yZsKWIUL9",
        "colab": {
          "base_uri": "https://localhost:8080/",
          "height": 317
        },
        "outputId": "9b70a60b-fc8c-4262-b801-e77a2fa73bbe"
      },
      "source": [
        "#Resumen de datos\n",
        "df.describe()"
      ],
      "execution_count": null,
      "outputs": [
        {
          "output_type": "execute_result",
          "data": {
            "text/html": [
              "<div>\n",
              "<style scoped>\n",
              "    .dataframe tbody tr th:only-of-type {\n",
              "        vertical-align: middle;\n",
              "    }\n",
              "\n",
              "    .dataframe tbody tr th {\n",
              "        vertical-align: top;\n",
              "    }\n",
              "\n",
              "    .dataframe thead th {\n",
              "        text-align: right;\n",
              "    }\n",
              "</style>\n",
              "<table border=\"1\" class=\"dataframe\">\n",
              "  <thead>\n",
              "    <tr style=\"text-align: right;\">\n",
              "      <th></th>\n",
              "      <th>MODELYEAR</th>\n",
              "      <th>ENGINESIZE</th>\n",
              "      <th>CYLINDERS</th>\n",
              "      <th>FUELCONSUMPTION_CITY</th>\n",
              "      <th>FUELCONSUMPTION_HWY</th>\n",
              "      <th>FUELCONSUMPTION_COMB</th>\n",
              "      <th>FUELCONSUMPTION_COMB_MPG</th>\n",
              "      <th>CO2EMISSIONS</th>\n",
              "    </tr>\n",
              "  </thead>\n",
              "  <tbody>\n",
              "    <tr>\n",
              "      <th>count</th>\n",
              "      <td>1067.0</td>\n",
              "      <td>1067.000000</td>\n",
              "      <td>1067.000000</td>\n",
              "      <td>1067.000000</td>\n",
              "      <td>1067.000000</td>\n",
              "      <td>1067.000000</td>\n",
              "      <td>1067.000000</td>\n",
              "      <td>1067.000000</td>\n",
              "    </tr>\n",
              "    <tr>\n",
              "      <th>mean</th>\n",
              "      <td>2014.0</td>\n",
              "      <td>3.346298</td>\n",
              "      <td>5.794752</td>\n",
              "      <td>13.296532</td>\n",
              "      <td>9.474602</td>\n",
              "      <td>11.580881</td>\n",
              "      <td>26.441425</td>\n",
              "      <td>256.228679</td>\n",
              "    </tr>\n",
              "    <tr>\n",
              "      <th>std</th>\n",
              "      <td>0.0</td>\n",
              "      <td>1.415895</td>\n",
              "      <td>1.797447</td>\n",
              "      <td>4.101253</td>\n",
              "      <td>2.794510</td>\n",
              "      <td>3.485595</td>\n",
              "      <td>7.468702</td>\n",
              "      <td>63.372304</td>\n",
              "    </tr>\n",
              "    <tr>\n",
              "      <th>min</th>\n",
              "      <td>2014.0</td>\n",
              "      <td>1.000000</td>\n",
              "      <td>3.000000</td>\n",
              "      <td>4.600000</td>\n",
              "      <td>4.900000</td>\n",
              "      <td>4.700000</td>\n",
              "      <td>11.000000</td>\n",
              "      <td>108.000000</td>\n",
              "    </tr>\n",
              "    <tr>\n",
              "      <th>25%</th>\n",
              "      <td>2014.0</td>\n",
              "      <td>2.000000</td>\n",
              "      <td>4.000000</td>\n",
              "      <td>10.250000</td>\n",
              "      <td>7.500000</td>\n",
              "      <td>9.000000</td>\n",
              "      <td>21.000000</td>\n",
              "      <td>207.000000</td>\n",
              "    </tr>\n",
              "    <tr>\n",
              "      <th>50%</th>\n",
              "      <td>2014.0</td>\n",
              "      <td>3.400000</td>\n",
              "      <td>6.000000</td>\n",
              "      <td>12.600000</td>\n",
              "      <td>8.800000</td>\n",
              "      <td>10.900000</td>\n",
              "      <td>26.000000</td>\n",
              "      <td>251.000000</td>\n",
              "    </tr>\n",
              "    <tr>\n",
              "      <th>75%</th>\n",
              "      <td>2014.0</td>\n",
              "      <td>4.300000</td>\n",
              "      <td>8.000000</td>\n",
              "      <td>15.550000</td>\n",
              "      <td>10.850000</td>\n",
              "      <td>13.350000</td>\n",
              "      <td>31.000000</td>\n",
              "      <td>294.000000</td>\n",
              "    </tr>\n",
              "    <tr>\n",
              "      <th>max</th>\n",
              "      <td>2014.0</td>\n",
              "      <td>8.400000</td>\n",
              "      <td>12.000000</td>\n",
              "      <td>30.200000</td>\n",
              "      <td>20.500000</td>\n",
              "      <td>25.800000</td>\n",
              "      <td>60.000000</td>\n",
              "      <td>488.000000</td>\n",
              "    </tr>\n",
              "  </tbody>\n",
              "</table>\n",
              "</div>"
            ],
            "text/plain": [
              "       MODELYEAR   ENGINESIZE  ...  FUELCONSUMPTION_COMB_MPG  CO2EMISSIONS\n",
              "count     1067.0  1067.000000  ...               1067.000000   1067.000000\n",
              "mean      2014.0     3.346298  ...                 26.441425    256.228679\n",
              "std          0.0     1.415895  ...                  7.468702     63.372304\n",
              "min       2014.0     1.000000  ...                 11.000000    108.000000\n",
              "25%       2014.0     2.000000  ...                 21.000000    207.000000\n",
              "50%       2014.0     3.400000  ...                 26.000000    251.000000\n",
              "75%       2014.0     4.300000  ...                 31.000000    294.000000\n",
              "max       2014.0     8.400000  ...                 60.000000    488.000000\n",
              "\n",
              "[8 rows x 8 columns]"
            ]
          },
          "metadata": {
            "tags": []
          },
          "execution_count": 3
        }
      ]
    },
    {
      "cell_type": "markdown",
      "metadata": {
        "id": "xYzdBsLvUzEG"
      },
      "source": [
        "Ahora seleccionaremos solo algunas columnas o features para una mejor exploración"
      ]
    },
    {
      "cell_type": "code",
      "metadata": {
        "id": "ngliMIu_JAWa",
        "colab": {
          "base_uri": "https://localhost:8080/",
          "height": 328
        },
        "outputId": "4c6f1ecf-24cd-4e30-cb66-12acf2c149c4"
      },
      "source": [
        "#Acceso a las columnas de un dataframe\n",
        "#cdf = df[['ENGINESIZE']] #lista de valores continios\n",
        "cdf = df[['ENGINESIZE', 'CYLINDERS', 'FUELCONSUMPTION_COMB', 'CO2EMISSIONS']] #matriz\n",
        "\n",
        "#cdf. #para ver todas las filas\n",
        "cdf.head(9)"
      ],
      "execution_count": null,
      "outputs": [
        {
          "output_type": "execute_result",
          "data": {
            "text/html": [
              "<div>\n",
              "<style scoped>\n",
              "    .dataframe tbody tr th:only-of-type {\n",
              "        vertical-align: middle;\n",
              "    }\n",
              "\n",
              "    .dataframe tbody tr th {\n",
              "        vertical-align: top;\n",
              "    }\n",
              "\n",
              "    .dataframe thead th {\n",
              "        text-align: right;\n",
              "    }\n",
              "</style>\n",
              "<table border=\"1\" class=\"dataframe\">\n",
              "  <thead>\n",
              "    <tr style=\"text-align: right;\">\n",
              "      <th></th>\n",
              "      <th>ENGINESIZE</th>\n",
              "      <th>CYLINDERS</th>\n",
              "      <th>FUELCONSUMPTION_COMB</th>\n",
              "      <th>CO2EMISSIONS</th>\n",
              "    </tr>\n",
              "  </thead>\n",
              "  <tbody>\n",
              "    <tr>\n",
              "      <th>0</th>\n",
              "      <td>2.0</td>\n",
              "      <td>4</td>\n",
              "      <td>8.5</td>\n",
              "      <td>196</td>\n",
              "    </tr>\n",
              "    <tr>\n",
              "      <th>1</th>\n",
              "      <td>2.4</td>\n",
              "      <td>4</td>\n",
              "      <td>9.6</td>\n",
              "      <td>221</td>\n",
              "    </tr>\n",
              "    <tr>\n",
              "      <th>2</th>\n",
              "      <td>1.5</td>\n",
              "      <td>4</td>\n",
              "      <td>5.9</td>\n",
              "      <td>136</td>\n",
              "    </tr>\n",
              "    <tr>\n",
              "      <th>3</th>\n",
              "      <td>3.5</td>\n",
              "      <td>6</td>\n",
              "      <td>11.1</td>\n",
              "      <td>255</td>\n",
              "    </tr>\n",
              "    <tr>\n",
              "      <th>4</th>\n",
              "      <td>3.5</td>\n",
              "      <td>6</td>\n",
              "      <td>10.6</td>\n",
              "      <td>244</td>\n",
              "    </tr>\n",
              "    <tr>\n",
              "      <th>5</th>\n",
              "      <td>3.5</td>\n",
              "      <td>6</td>\n",
              "      <td>10.0</td>\n",
              "      <td>230</td>\n",
              "    </tr>\n",
              "    <tr>\n",
              "      <th>6</th>\n",
              "      <td>3.5</td>\n",
              "      <td>6</td>\n",
              "      <td>10.1</td>\n",
              "      <td>232</td>\n",
              "    </tr>\n",
              "    <tr>\n",
              "      <th>7</th>\n",
              "      <td>3.7</td>\n",
              "      <td>6</td>\n",
              "      <td>11.1</td>\n",
              "      <td>255</td>\n",
              "    </tr>\n",
              "    <tr>\n",
              "      <th>8</th>\n",
              "      <td>3.7</td>\n",
              "      <td>6</td>\n",
              "      <td>11.6</td>\n",
              "      <td>267</td>\n",
              "    </tr>\n",
              "  </tbody>\n",
              "</table>\n",
              "</div>"
            ],
            "text/plain": [
              "   ENGINESIZE  CYLINDERS  FUELCONSUMPTION_COMB  CO2EMISSIONS\n",
              "0         2.0          4                   8.5           196\n",
              "1         2.4          4                   9.6           221\n",
              "2         1.5          4                   5.9           136\n",
              "3         3.5          6                  11.1           255\n",
              "4         3.5          6                  10.6           244\n",
              "5         3.5          6                  10.0           230\n",
              "6         3.5          6                  10.1           232\n",
              "7         3.7          6                  11.1           255\n",
              "8         3.7          6                  11.6           267"
            ]
          },
          "metadata": {
            "tags": []
          },
          "execution_count": 5
        }
      ]
    },
    {
      "cell_type": "markdown",
      "metadata": {
        "id": "_zW9D4AzVnnw"
      },
      "source": [
        "Ahora imprimiremos cada una de estas columnass o features."
      ]
    },
    {
      "cell_type": "code",
      "metadata": {
        "id": "FAF8jTtfHI9R",
        "colab": {
          "base_uri": "https://localhost:8080/",
          "height": 281
        },
        "outputId": "aa3f8af9-16b1-4818-e80f-f227308adc98"
      },
      "source": [
        "#visualizacion de las variables en histogramas\n",
        "viz= cdf[[ 'CYLINDERS','ENGINESIZE' , 'CO2EMISSIONS','FUELCONSUMPTION_COMB']]\n",
        "\n",
        "#type(viz) para ver el tipo de dato(dataframe)\n",
        "\n",
        "viz.hist()\n",
        "plt.show()\n"
      ],
      "execution_count": null,
      "outputs": [
        {
          "output_type": "display_data",
          "data": {
            "image/png": "[encoded data removed]",
            "text/plain": [
              "<Figure size 432x288 with 4 Axes>"
            ]
          },
          "metadata": {
            "tags": [],
            "needs_background": "light"
          }
        }
      ]
    },
    {
      "cell_type": "markdown",
      "metadata": {
        "id": "u2LoEpBRLqWW"
      },
      "source": [
        "Ahora imprimiresmos cada una de estos features vs la Emission, para ver como se relacionan linealmente."
      ]
    },
    {
      "cell_type": "code",
      "metadata": {
        "id": "_n3Ct50lX2wU",
        "colab": {
          "base_uri": "https://localhost:8080/",
          "height": 280
        },
        "outputId": "69331550-f874-445f-a1ef-0f4f25a8e077"
      },
      "source": [
        "plt.scatter(cdf.FUELCONSUMPTION_COMB,cdf.CO2EMISSIONS, color= 'blue')\n",
        "plt.xlabel('X=Consumo de combustible')\n",
        "plt.ylabel('Y=Emision de CO2')\n",
        "plt.show()"
      ],
      "execution_count": null,
      "outputs": [
        {
          "output_type": "display_data",
          "data": {
            "image/png": "[encoded data removed]",
            "text/plain": [
              "<Figure size 432x288 with 1 Axes>"
            ]
          },
          "metadata": {
            "tags": [],
            "needs_background": "light"
          }
        }
      ]
    },
    {
      "cell_type": "code",
      "metadata": {
        "id": "lq_0WWUNZDL4"
      },
      "source": [
        "plt.scatter(cdf.FUELCONSUMPTION_COMB,cdf.CO2EMISSIONS, color= 'blue')\n",
        "plt.xlabel('X=Consumo de combustible')\n",
        "plt.ylabel('Y=Emision de CO2')\n",
        "plt.show()"
      ],
      "execution_count": null,
      "outputs": []
    },
    {
      "cell_type": "markdown",
      "metadata": {
        "id": "3NNpz7_wbQi4"
      },
      "source": [
        "**Práctica**\n",
        "\n",
        "Imprimir la relacion lineal entre las variables *CYLINDER* vs *CO2EMISSIONS*\n"
      ]
    },
    {
      "cell_type": "code",
      "metadata": {
        "id": "r4VpfeFybrwp"
      },
      "source": [
        ""
      ],
      "execution_count": null,
      "outputs": []
    },
    {
      "cell_type": "markdown",
      "metadata": {
        "id": "w9MNg5DEdwUa"
      },
      "source": [
        "**Creando dataset de entrenamiento y prueba**\n",
        "\n",
        "Ahora dividiremos los datos en dos conjuntos: un dataset de  de entrenamiento y un dataset de prueba. Ambos conjuntos son mutuamente excluyentes; esto permitirá una mayor exactitud de evaluación, debido a que el dataset de de prueba no es parte del dataset que ha sido utilizado para entrenar al modelo.\n",
        "\n",
        "Nosotros conocermos el resultado de cada punto del dataset, y debido a que estos datos no han sido utilizados para entrenar al modelo, este no tiene conocimiento de los resultados de cada uno de estos puntos."
      ]
    },
    {
      "cell_type": "code",
      "metadata": {
        "id": "JiEckj4Wd9-3",
        "colab": {
          "base_uri": "https://localhost:8080/",
          "height": 34
        },
        "outputId": "8df82f6d-8741-497c-e657-8e46e5708cd9"
      },
      "source": [
        "#Generacion del dataset de entranamiento y el dataset de prueba\n",
        "len(df)"
      ],
      "execution_count": null,
      "outputs": [
        {
          "output_type": "execute_result",
          "data": {
            "text/plain": [
              "1067"
            ]
          },
          "metadata": {
            "tags": []
          },
          "execution_count": 9
        }
      ]
    },
    {
      "cell_type": "code",
      "metadata": {
        "id": "1HHD43-wQ8zC",
        "colab": {
          "base_uri": "https://localhost:8080/",
          "height": 51
        },
        "outputId": "a7aecde0-28af-4e84-c8f2-7bb1ff92bc20"
      },
      "source": [
        "#Generacion del dataset de entrenamiento y el dataset de prueba \n",
        "#80% para el entrenamiento y 20% para las pruebas\n",
        "msk = np.random.rand(len(df)) < 0.8\n",
        "#msk\n",
        "train = cdf[msk]\n",
        "test = cdf[~msk]\n",
        "\n",
        "print(msk)\n",
        "print(~msk)"
      ],
      "execution_count": null,
      "outputs": [
        {
          "output_type": "stream",
          "text": [
            "[ True False  True ...  True  True False]\n",
            "[False  True False ... False False  True]\n"
          ],
          "name": "stdout"
        }
      ]
    },
    {
      "cell_type": "markdown",
      "metadata": {
        "id": "_Taz-eP6Fjjx"
      },
      "source": [
        "**Modelo de regresión simple**\n",
        "\n",
        "Regresión lineal ajusta un modelo de línea con coeficientes B=(B1, ... Bn) para minimizar el error entre la variable indpendiente X y la variable dependiente Y (suma de cuadrados de dla diferencia entre X y Y).\n",
        "\n",
        "\n"
      ]
    },
    {
      "cell_type": "markdown",
      "metadata": {
        "id": "Pw1HslWWHO0h"
      },
      "source": [
        "**Entrenamiento de datos**"
      ]
    },
    {
      "cell_type": "code",
      "metadata": {
        "id": "Dq8Ei3_2e1WV",
        "colab": {
          "base_uri": "https://localhost:8080/",
          "height": 280
        },
        "outputId": "7780b191-4513-48d4-8c09-04abc1c9b0c6"
      },
      "source": [
        "plt.scatter(train.ENGINESIZE,train.CO2EMISSIONS, color= 'blue')\n",
        "plt.xlabel('X=Consumo de combustible')\n",
        "plt.ylabel('Y=Emision de CO2')\n",
        "plt.show()"
      ],
      "execution_count": null,
      "outputs": [
        {
          "output_type": "display_data",
          "data": {
            "image/png": "[encoded data removed]",
            "text/plain": [
              "<Figure size 432x288 with 1 Axes>"
            ]
          },
          "metadata": {
            "tags": [],
            "needs_background": "light"
          }
        }
      ]
    },
    {
      "cell_type": "markdown",
      "metadata": {
        "id": "KW98fN2sgP_U"
      },
      "source": [
        "**Modelamiento**\n",
        "\n",
        "Usando el paquete *sklearn* para modelar los datos."
      ]
    },
    {
      "cell_type": "code",
      "metadata": {
        "id": "1fW0LsSufMtG",
        "colab": {
          "base_uri": "https://localhost:8080/",
          "height": 51
        },
        "outputId": "e8bf118f-0eb7-4467-9d50-7cba5a51fefc"
      },
      "source": [
        "from sklearn import linear_model\n",
        "\n",
        "regr = linear_model.LinearRegression()\n",
        "train_x = np.asanyarray(train[['ENGINESIZE']])\n",
        "train_y = np.asanyarray(train[['CO2EMISSIONS']])\n",
        "regr.fit(train_x, train_y)\n",
        "\n",
        "#Los coeficiente gradiente y el intercepto\n",
        "\n",
        "print('Coeficiente (Gradiente) - Tetal: ', regr.coef_)\n",
        "print('Intercepto - Teta0:', regr.intercept_)"
      ],
      "execution_count": null,
      "outputs": [
        {
          "output_type": "stream",
          "text": [
            "Coeficiente (Gradiente) - Tetal:  [[39.19737821]]\n",
            "Intercepto - Teta0: [124.67726261]\n"
          ],
          "name": "stdout"
        }
      ]
    },
    {
      "cell_type": "markdown",
      "metadata": {
        "id": "YPt2iNqmgg2R"
      },
      "source": [
        "Como se mencionó antes, el **coeficiente** y el **intercepto** en la regresión lineal simple son los parámetros de la línea ajustada. \n",
        "\n",
        "Debido a que se va está trabajando con una regresión lineal simple con únicamente 2 parámetros, los cuales son el intercepto y la gradiente, con el paquete sklearn se puede estimar estos directamente desde los datos que estamos manejando. Tener en cuenta que todos estos datos deberían estar disponibles para cruzar y calcular los parámetros."
      ]
    },
    {
      "cell_type": "markdown",
      "metadata": {
        "id": "UtYKOfkfOMaw"
      },
      "source": [
        "**Impresión de resultados**\n",
        "\n",
        "Nosotros podemos imprimir el ajuste de linea sobre los datos."
      ]
    },
    {
      "cell_type": "code",
      "metadata": {
        "id": "rG2A34sef733",
        "colab": {
          "base_uri": "https://localhost:8080/",
          "height": 297
        },
        "outputId": "d3e4ce82-69f2-4523-d719-0d8e37261106"
      },
      "source": [
        "plt.scatter(train.ENGINESIZE, train.CO2EMISSIONS, color= 'blue')\n",
        "plt.plot(train_x,regr.coef_[0][0]*train_x + regr.intercept_[0], '-r')\n",
        "plt.xlabel('X= Tamaño del motor')\n",
        "plt.ylabel('Y= Emision del CO2')\n",
        "#plt.show()"
      ],
      "execution_count": null,
      "outputs": [
        {
          "output_type": "execute_result",
          "data": {
            "text/plain": [
              "Text(0, 0.5, 'Y= Emision del CO2')"
            ]
          },
          "metadata": {
            "tags": []
          },
          "execution_count": 21
        },
        {
          "output_type": "display_data",
          "data": {
            "image/png": "[encoded data removed]",
            "text/plain": [
              "<Figure size 432x288 with 1 Axes>"
            ]
          },
          "metadata": {
            "tags": [],
            "needs_background": "light"
          }
        }
      ]
    },
    {
      "cell_type": "markdown",
      "metadata": {
        "id": "2_N7YxO_jf9U"
      },
      "source": [
        "**Evaluación**\n",
        "\n",
        "Comparemos los valores actuales con los valores predichos para calcular la exactitud (accuracy) de un modelo de regresión. Métricas de evaluación juegan un rol principal en el desarrollo de un modelo, ya que estas proveen insights a las áreas que requieren una mejora.\n",
        "\n",
        "Existen diferentes métricas de evaluación de modelos, aca utilizaremos MSE para calcular la exactitud (accuracy) de nuestro modelo basado en el dataset de prueba:\n",
        "\n",
        "\n",
        "*   **Mean absolute error**: promedio de los valores absolutos de errores.\n",
        "*   **Mean Square error (MSE)**: promedio de los errores al cuadrado. Es mas popular que *Mean absolute error* debido a que se enfoca mas en los errores mas grandes. Esto es debido a que el térmno cuadrado incrementa exponencialmente los grandes errores en comparación con los errores pequeños.\n",
        "*   **Root Mean Squared Error (RMSE)**: R squared no es un error, pero es una métrica popular para calcular la exactitud (acccuracy) del modelo. Representa lo cerca que estan los datos de la línea de regresión ajustada. Mientras mas alto sea el R-square, mejor se ajustará el modelo a sus datos. El mejor resultado posible es 1 y este puede ser negativo (lo que indica que el modelo es totalmente malo)."
      ]
    },
    {
      "cell_type": "code",
      "metadata": {
        "id": "4T4j8QA9j5jC",
        "colab": {
          "base_uri": "https://localhost:8080/",
          "height": 68
        },
        "outputId": "c7015708-5fdb-4d14-98b5-bc4335bfc645"
      },
      "source": [
        "from sklearn.metrics import r2_score\n",
        "\n",
        "test_x = np.asanyarray(test[['ENGINESIZE']])\n",
        "test_y = np.asanyarray(test[['CO2EMISSIONS']])\n",
        "test_y_= regr.predict(test_x)\n",
        "\n",
        "print('Mean absolute error: %.2f' % np.mean(np.absolute(test_y_ - test_y)))\n",
        "print('MSE : %.2f' %np.mean((test_y_ - test_y)**2))\n",
        "print('R2 - scote (RMSE): %2.f' % r2_score(test_y_, test_y))"
      ],
      "execution_count": null,
      "outputs": [
        {
          "output_type": "stream",
          "text": [
            "Mean absolute error: 23.87\n",
            "MSE : 997.11\n",
            "R2 - scote (RMSE):  1\n"
          ],
          "name": "stdout"
        }
      ]
    }
  ]
}